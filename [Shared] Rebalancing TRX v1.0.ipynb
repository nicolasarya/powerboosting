{
 "cells": [
  {
   "cell_type": "markdown",
   "metadata": {},
   "source": [
    "\n",
    "<center><em><font face=\"Arial\" size=\"6px\" color=\"#fa0f0f\">EID Rebalancing TRX Script Generator v1.0</font></em></center>\n",
    "\n",
    "<center><em><font face=\"Arial\" size=\"3px\"> Powered by BIGBOS Squad Sumbagut</font></em></center>\n",
    "\n",
    "<center><em>-Nicolaskun-</em></center>"
   ]
  },
  {
   "cell_type": "markdown",
   "metadata": {},
   "source": [
    "# Prerequisite\n",
    "\n",
    "### Tabular data (excel) which contains:\n",
    "\n",
    "1. NodeId\n",
    "2. GsmSectorId\n",
    "3. ip oam\n",
    "4. rfbranch\n",
    "5. TrxId\n",
    "\n",
    "Must only contain TRXId 0 & 1 data!"
   ]
  },
  {
   "cell_type": "markdown",
   "metadata": {},
   "source": [
    "### 1. Import library\n",
    "\n",
    "Import pandas library (for data manipulation)"
   ]
  },
  {
   "cell_type": "code",
   "execution_count": 1,
   "metadata": {},
   "outputs": [],
   "source": [
    "import pandas as pd"
   ]
  },
  {
   "cell_type": "markdown",
   "metadata": {},
   "source": [
    "### 2. Import Tabular Data\n",
    "\n",
    "Import excel file from local directory as a dataframe:\n",
    "1. Input your local .xlsx file directory (example: D:\\My Works\\example.xlsx)\n",
    "2. Input sheet name from .xlsx file\n",
    "\n",
    "data = r'<font color=\"#fa0f0f\">your .xlsx dir file here</font>'\n",
    "df = pd.read_excel(data,sheet_name='<font color=\"#fa0f0f\">sheet name</font>')"
   ]
  },
  {
   "cell_type": "code",
   "execution_count": 2,
   "metadata": {},
   "outputs": [],
   "source": [
    "data = r'C:\\Users\\nicolaskun\\OneDrive - PT Telekomunikasi Selular\\Documents\\Bigbos\\Power boosting Eid\\Settlement 3\\antenna_port_2.csv'"
   ]
  },
  {
   "cell_type": "code",
   "execution_count": 3,
   "metadata": {},
   "outputs": [],
   "source": [
    "df = pd.read_csv(data)"
   ]
  },
  {
   "cell_type": "markdown",
   "metadata": {},
   "source": [
    "### 3. Set Index\n",
    "\n",
    "Set GsmSectorId column as dataframe index"
   ]
  },
  {
   "cell_type": "code",
   "execution_count": 4,
   "metadata": {},
   "outputs": [],
   "source": [
    "df_indexed = df.set_index('GsmSectorId')"
   ]
  },
  {
   "cell_type": "markdown",
   "metadata": {},
   "source": [
    "### 4. Create Unique List of Gsm Sector & Node Id\n",
    "\n",
    "Remove duplicates of Gsm Sector & Node Id "
   ]
  },
  {
   "cell_type": "code",
   "execution_count": 5,
   "metadata": {},
   "outputs": [],
   "source": [
    "sectorid_unique = df['GsmSectorId'].unique()"
   ]
  },
  {
   "cell_type": "code",
   "execution_count": 6,
   "metadata": {},
   "outputs": [
    {
     "data": {
      "text/plain": [
       "array(['JH1014A', 'JH1014B', 'CA2552A', 'BE5181B', 'BE5181C', 'SN2592A',\n",
       "       'SN2592B', 'BE5176C', 'BE5176A', 'BE5176B', 'TK3133B', 'PL4092A',\n",
       "       'PL4092B', 'PL4092C', 'PL4973C', 'PL4973B', 'PL4968B', 'SI1503A',\n",
       "       'SI1503C', 'BK4362B', 'BE5169A', 'BE5169C', 'BE5169B', 'PL4101A',\n",
       "       'PL4101B', 'PL4101C', 'MA2768C', 'GS5859A', 'GS5859B', 'GS5859C',\n",
       "       'PM4219A', 'PM4219B', 'PM4219C', 'PS5502B', 'PS5502A', 'PS5502C',\n",
       "       'KP5301A', 'KP5301B', 'KP5301C', 'PB5629B', 'PB5629C', 'PB5629A',\n",
       "       'LH3171B', 'LH3171C', 'LH3171A', 'LH3029B', 'LH3029C', 'LG4006A',\n",
       "       'LG4006B', 'LG4006C', 'RP4265B', 'RP4265A', 'PS5553A', 'PS5553B',\n",
       "       'LG4038B', 'LG4038A', 'SK5510A', 'SK5510B', 'SK5510C', 'PS5526C',\n",
       "       'PS5526A', 'PS5526B', 'SD3102A', 'SD3102B', 'SD3102C', 'RP4942A',\n",
       "       'RP4942B', 'RP4942C', 'RP4259A', 'TK3717B', 'TK3717A', 'PL4169B',\n",
       "       'PL4169C', 'LH3167A', 'LH3167B', 'LH3167C', 'KI4547A', 'KI4547B',\n",
       "       'KI4547C', 'PL4366A', 'PL4366B', 'PL4366C', 'PB5246A', 'PM4323A',\n",
       "       'PM4323B', 'PM4323C', 'SB0703A', 'SB0703B', 'RP4122B', 'RP4122C',\n",
       "       'TN5104A', 'SK5506A', 'GS5812A', 'GS5812B', 'GS5812C', 'SK5608B',\n",
       "       'SK5608C', 'RP4760A', 'PL4477A', 'PL4477B', 'PL4477C', 'SG5425A',\n",
       "       'SG5425B', 'SG5425C', 'MB2013A', 'MB2013B', 'MB2013C', 'SI1570A',\n",
       "       'TR5575A', 'TR5575C', 'TR5575B', 'SB0707A', 'SB0707B', 'SB0707C',\n",
       "       'MA2754A', 'MA2754B', 'MA2754C', 'PM4310A', 'PM4310B', 'PM4310C',\n",
       "       'RP4087B', 'RP4087A', 'PB5956A', 'PB5956B', 'PB5956C', 'PS5582B',\n",
       "       'PS5582C', 'PS5582A', 'TK3741A', 'TK3741B', 'TK3741C', 'BE5177A',\n",
       "       'BE5177C', 'JH1304A', 'TN5312A', 'TN5312C', 'PS5546A', 'PS5546B',\n",
       "       'PS5546C', 'KR4711A', 'KR4711B', 'KR4711C', 'BI3422A', 'BI3422B',\n",
       "       'BI3422C'], dtype=object)"
      ]
     },
     "execution_count": 6,
     "metadata": {},
     "output_type": "execute_result"
    }
   ],
   "source": [
    "sectorid_unique"
   ]
  },
  {
   "cell_type": "code",
   "execution_count": 7,
   "metadata": {},
   "outputs": [],
   "source": [
    "nodeid_unique = df['NodeId'].unique()"
   ]
  },
  {
   "cell_type": "code",
   "execution_count": 8,
   "metadata": {},
   "outputs": [
    {
     "data": {
      "text/plain": [
       "62"
      ]
     },
     "execution_count": 8,
     "metadata": {},
     "output_type": "execute_result"
    }
   ],
   "source": [
    "len(nodeid_unique)"
   ]
  },
  {
   "cell_type": "code",
   "execution_count": 9,
   "metadata": {},
   "outputs": [
    {
     "data": {
      "text/plain": [
       "145"
      ]
     },
     "execution_count": 9,
     "metadata": {},
     "output_type": "execute_result"
    }
   ],
   "source": [
    "len(sectorid_unique)"
   ]
  },
  {
   "cell_type": "code",
   "execution_count": 10,
   "metadata": {},
   "outputs": [],
   "source": [
    "df_nodeid_unique = df_indexed[df_indexed['NodeId']=='KIS636MM2-DUSUN-V-TELUK-DALAM']"
   ]
  },
  {
   "cell_type": "code",
   "execution_count": 11,
   "metadata": {},
   "outputs": [
    {
     "data": {
      "text/html": [
       "<div>\n",
       "<style scoped>\n",
       "    .dataframe tbody tr th:only-of-type {\n",
       "        vertical-align: middle;\n",
       "    }\n",
       "\n",
       "    .dataframe tbody tr th {\n",
       "        vertical-align: top;\n",
       "    }\n",
       "\n",
       "    .dataframe thead th {\n",
       "        text-align: right;\n",
       "    }\n",
       "</style>\n",
       "<table border=\"1\" class=\"dataframe\">\n",
       "  <thead>\n",
       "    <tr style=\"text-align: right;\">\n",
       "      <th></th>\n",
       "      <th>NodeId</th>\n",
       "      <th>look_up</th>\n",
       "      <th>BtsFunctionId</th>\n",
       "      <th>ip oam</th>\n",
       "      <th>filter_band</th>\n",
       "      <th>TrxId</th>\n",
       "      <th>rfBranchTxRef</th>\n",
       "      <th>Unnamed: 8</th>\n",
       "      <th>Unnamed: 9</th>\n",
       "      <th>Unnamed: 10</th>\n",
       "      <th>Unnamed: 11</th>\n",
       "      <th>Unnamed: 12</th>\n",
       "      <th>Unnamed: 13</th>\n",
       "      <th>rfbranch</th>\n",
       "    </tr>\n",
       "    <tr>\n",
       "      <th>GsmSectorId</th>\n",
       "      <th></th>\n",
       "      <th></th>\n",
       "      <th></th>\n",
       "      <th></th>\n",
       "      <th></th>\n",
       "      <th></th>\n",
       "      <th></th>\n",
       "      <th></th>\n",
       "      <th></th>\n",
       "      <th></th>\n",
       "      <th></th>\n",
       "      <th></th>\n",
       "      <th></th>\n",
       "      <th></th>\n",
       "    </tr>\n",
       "  </thead>\n",
       "  <tbody>\n",
       "  </tbody>\n",
       "</table>\n",
       "</div>"
      ],
      "text/plain": [
       "Empty DataFrame\n",
       "Columns: [NodeId, look_up, BtsFunctionId, ip oam, filter_band, TrxId, rfBranchTxRef, Unnamed: 8, Unnamed: 9, Unnamed: 10, Unnamed: 11, Unnamed: 12, Unnamed: 13, rfbranch]\n",
       "Index: []"
      ]
     },
     "execution_count": 11,
     "metadata": {},
     "output_type": "execute_result"
    }
   ],
   "source": [
    "df_nodeid_unique"
   ]
  },
  {
   "cell_type": "markdown",
   "metadata": {},
   "source": [
    "### 5. Create Functions\n",
    "\n",
    "Create scripting functions \n",
    "\n",
    "In this case column names that have to be considered are:\n",
    "1. NodeId\n",
    "2. GsmSectorId\n",
    "3. ip oam\n",
    "4. rfbranch\n",
    "5. TrxId\n",
    "\n",
    "You can change your column name (excel input .xlsx) according to these column names. This column names are case sensitive.\n",
    "\n",
    "Set your local directory to save the execute script.\n",
    "\n",
    "with open(r'<font color=\"#fa0f0f\">Your local dir here</font>'+list(df_new_index.loc[nodeid_unique[n]]['IP OAM Updated'])[0]+'.mos', 'w') as f:\n"
   ]
  },
  {
   "cell_type": "code",
   "execution_count": 12,
   "metadata": {},
   "outputs": [],
   "source": [
    "#turn list of string into single string with no space\n",
    "def list_to_string(s): \n",
    "    \n",
    "    # initialize an empty string\n",
    "    str1 = \"\" \n",
    "    \n",
    "    # return string  \n",
    "    return (str1.join(s))"
   ]
  },
  {
   "cell_type": "code",
   "execution_count": 13,
   "metadata": {},
   "outputs": [],
   "source": [
    "#main scripting function \n",
    "def script_func():\n",
    "    \n",
    "    #first loop to lookup dataframe from each unique nodeid\n",
    "    for number,nodeid in enumerate(nodeid_unique):\n",
    "        script_lset = []\n",
    "        script_ldeb = []\n",
    "        script_lbl = []\n",
    "        df_nodeid_unique = df_indexed[df_indexed['NodeId']==nodeid]\n",
    "        sectorid_unique_new = df_nodeid_unique.index.unique()\n",
    "        #second loop for iterating from the first loop\n",
    "        for i,j in enumerate (sectorid_unique_new):\n",
    "            \n",
    "            #function to find sector\n",
    "            def sector_finder(rf_br):\n",
    "                for x,y in enumerate(rf_br):\n",
    "                    return y\n",
    "            #function to change rfbranch\n",
    "            def branch_finder(br):\n",
    "                if list(df_nodeid_unique.loc[sectorid_unique_new[br]]['rfbranch'])[0][1]=='A':\n",
    "                    return 'B'\n",
    "                else:\n",
    "                    return 'A' \n",
    "            \n",
    "            #need check list(df_nodeid_unique.loc[sectorid_unique_new[i]]['rfbranch'])[X], if trx>2\n",
    "            #to compare rfbranch in each cell, if the cell has same rf branch value, lbl lset ldeb command is written\n",
    "            if list(df_nodeid_unique.loc[sectorid_unique_new[i]]['rfbranch'])[0]==list(df_nodeid_unique.loc[sectorid_unique_new[i]]['rfbranch'])[1]:\n",
    "                lbl = 'lbl '+'GsmSector='+sectorid_unique_new[i]+',Trx=1'+'*'\n",
    "                lset = 'lset '+'GsmSector='+sectorid_unique_new[i]+',Trx=1 '+'rfBranchTxRef '+'AntennaUnitGroup='+sector_finder(list(df_nodeid_unique.loc[sectorid_unique_new[i]]['rfbranch'])[0])+',RfBranch='+sector_finder(list(df_nodeid_unique.loc[sectorid_unique_new[i]]['rfbranch'])[0])+branch_finder(i)+'*'\n",
    "                ldeb = 'ldeb '+'GsmSector='+sectorid_unique_new[i]+',Trx=1'+'*'\n",
    "                #script_lset.append('*')\n",
    "                script_lset.append(lset)\n",
    "                script_ldeb.append(ldeb)\n",
    "                script_lbl.append(lbl)\n",
    "\n",
    "            else:\n",
    "                continue\n",
    "\n",
    "            #if sectorid_unique_new[i][:6]==sectorid_unique[i+1][:6]:\n",
    "            #if list(df_nodeid_unique.loc[j]['rfbranch'])[0]==list(df_nodeid_unique.loc[j]['rfbranch'])[1]:\n",
    "                #continue\n",
    "            #else:\n",
    "                #break\n",
    "\n",
    "        \n",
    "        #here!\n",
    "        \n",
    "        #to detect empty list, indicating balanced rfbranch\n",
    "        #to write .mos script\n",
    "        if script_lset == []:\n",
    "            pass\n",
    "        else:\n",
    "            script_lset = list_to_string(script_lset)\n",
    "            script_ldeb = list_to_string(script_ldeb)\n",
    "            script_lbl = list_to_string(script_lbl)\n",
    "            #script_lbl = 'lbl '+'GsmSector='+sectorid_unique[num]+',Trx=1'\n",
    "            #script_ldeb = 'ldeb '+'GsmSector='+sectorid_unique[num]+',Trx=1'\n",
    "            confbplus = 'confb+'\n",
    "            gsplus = 'gs+'\n",
    "            ltall = 'lt all'\n",
    "            confbmin = 'confb-'\n",
    "            gsmin = 'gs-'\n",
    "            safe = 'safe-'\n",
    "            wait = 'wait 20'\n",
    "            cvms_before = 'cvms before_rebalancing_trx'\n",
    "            cvms_after = 'cvms after_rebalancing_trx'\n",
    "            \n",
    "            with open(r'C:\\Users\\nicolaskun\\OneDrive - PT Telekomunikasi Selular\\Documents\\Bigbos\\Power boosting Eid\\Settlement 3\\Rebalancing TRX\\\\'+list(df_indexed.loc[sectorid_unique_new[i]]['ip oam'])[0]+'.mos', 'w') as f:\n",
    "                combine = []\n",
    "                combine.append(confbplus)\n",
    "                combine.append(gsplus)\n",
    "                combine.append(ltall)\n",
    "                combine.append(safe)\n",
    "                combine.append(cvms_before)\n",
    "                combine.append(script_lbl)\n",
    "                combine.append(wait)\n",
    "                combine.append(script_lset)\n",
    "                combine.append(wait)\n",
    "                combine.append(script_ldeb)\n",
    "                combine.append(wait)\n",
    "                combine.append(cvms_after)\n",
    "                combine.append(confbmin)\n",
    "                combine.append(gsmin)\n",
    "                space = '*'\n",
    "                combine = space.join(combine)\n",
    "                combine = combine.replace('*','\\n')\n",
    "                f.write(combine)\n",
    "\n",
    "            #print(nodeid)\n",
    "            #print(i)\n",
    "            #print(number)\n",
    "\n",
    "\n",
    "            #num+=1\n",
    "            #number+=1"
   ]
  },
  {
   "cell_type": "markdown",
   "metadata": {},
   "source": [
    "### 6. Run :)\n",
    "\n",
    "Run the function "
   ]
  },
  {
   "cell_type": "code",
   "execution_count": 14,
   "metadata": {},
   "outputs": [],
   "source": [
    "#script_func()"
   ]
  },
  {
   "cell_type": "code",
   "execution_count": 15,
   "metadata": {},
   "outputs": [
    {
     "ename": "NameError",
     "evalue": "name 'sectorid_unique_new' is not defined",
     "output_type": "error",
     "traceback": [
      "\u001b[1;31m---------------------------------------------------------------------------\u001b[0m",
      "\u001b[1;31mNameError\u001b[0m                                 Traceback (most recent call last)",
      "\u001b[1;32m<ipython-input-15-880780504e40>\u001b[0m in \u001b[0;36m<module>\u001b[1;34m\u001b[0m\n\u001b[1;32m----> 1\u001b[1;33m \u001b[0mlist\u001b[0m\u001b[1;33m(\u001b[0m\u001b[0mdf_indexed\u001b[0m\u001b[1;33m.\u001b[0m\u001b[0mloc\u001b[0m\u001b[1;33m[\u001b[0m\u001b[0msectorid_unique_new\u001b[0m\u001b[1;33m[\u001b[0m\u001b[0mi\u001b[0m\u001b[1;33m]\u001b[0m\u001b[1;33m]\u001b[0m\u001b[1;33m[\u001b[0m\u001b[1;34m'ip oam'\u001b[0m\u001b[1;33m]\u001b[0m\u001b[1;33m)\u001b[0m\u001b[1;33m[\u001b[0m\u001b[1;36m0\u001b[0m\u001b[1;33m]\u001b[0m\u001b[1;33m\u001b[0m\u001b[1;33m\u001b[0m\u001b[0m\n\u001b[0m",
      "\u001b[1;31mNameError\u001b[0m: name 'sectorid_unique_new' is not defined"
     ]
    }
   ],
   "source": [
    "list(df_indexed.loc[sectorid_unique_new[i]]['ip oam'])[0]"
   ]
  },
  {
   "cell_type": "code",
   "execution_count": null,
   "metadata": {},
   "outputs": [],
   "source": []
  }
 ],
 "metadata": {
  "kernelspec": {
   "display_name": "Python 3",
   "language": "python",
   "name": "python3"
  },
  "language_info": {
   "codemirror_mode": {
    "name": "ipython",
    "version": 3
   },
   "file_extension": ".py",
   "mimetype": "text/x-python",
   "name": "python",
   "nbconvert_exporter": "python",
   "pygments_lexer": "ipython3",
   "version": "3.7.4"
  }
 },
 "nbformat": 4,
 "nbformat_minor": 4
}
